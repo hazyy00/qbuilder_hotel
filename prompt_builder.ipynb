{
 "cells": [
  {
   "cell_type": "code",
   "execution_count": null,
   "metadata": {},
   "outputs": [],
   "source": [
    "import openai\n",
    "import backoff\n",
    "from bardapi import Bard\n",
    "import csv\n",
    "import random\n",
    "import time\n",
    "\n",
    "\n",
    "openai.api_key = \"\" \n",
    "\n",
    "@backoff.on_exception(backoff.expo, openai.error.RateLimitError, max_tries = 5)\n",
    "def get_answer_from_openai(prompt):\n",
    "    completion = openai.ChatCompletion.create(\n",
    "        model=\"gpt-3.5-turbo\",\n",
    "        messages=[{\"role\": \"user\", \"content\": prompt}],\n",
    "        temperature = 1.0,\n",
    "        stop = None,\n",
    "        # max_tokens = 200\n",
    "    )\n",
    "    result = completion['choices'][0]['message']['content']\n",
    "    return result\n",
    "\n",
    "def get_answer_from_gpt4(file, prompt):\n",
    "    \n",
    "    completion = openai.ChatCompletion.create(\n",
    "        model=\"gpt-4\",\n",
    "        messages=[{\"role\": \"user\", \"content\": prompt}],\n",
    "        temperature = 1.0,\n",
    "        stop = None,\n",
    "        # max_tokens = 200\n",
    "    )\n",
    "    result = completion['choices'][0]['message']['content']\n",
    "    return result\n",
    "\n",
    "\n",
    "def get_answer_from_bard(prompt):\n",
    "    bard_token_list =  []\n",
    "    random.shuffle(bard_token_list)\n",
    "\n",
    "    for bard_token in bard_token_list:\n",
    "        try:\n",
    "            for i in range(5):\n",
    "                result = Bard(token=bard_token, timeout=30).get_answer(prompt)[\"content\"]\n",
    "                if ('Response Error:' not in result):\n",
    "                    return result\n",
    "        except:   \n",
    "            print('no') \n",
    "            continue\n",
    "#bard < GPT4"
   ]
  },
  {
   "cell_type": "code",
   "execution_count": null,
   "metadata": {},
   "outputs": [],
   "source": [
    "#여기에서 사용하는 gpt4 사용코드\n",
    "def get_answer_from_gpt4_test(prompt):\n",
    "    \n",
    "    completion = openai.ChatCompletion.create(\n",
    "        model=\"gpt-4\",\n",
    "        messages=[{\"role\": \"user\", \"content\": prompt}],\n",
    "        temperature = 1.0,\n",
    "        stop = None,\n",
    "        # max_tokens = 200\n",
    "    )\n",
    "    result = completion['choices'][0]['message']['content']\n",
    "    return result"
   ]
  },
  {
   "cell_type": "code",
   "execution_count": null,
   "metadata": {},
   "outputs": [],
   "source": [
    "accommodation_type = '료칸'\n",
    "hotel = ['영어 가능한 직원', '골프장', '주차장', '친절한 직원', '로맨틱', '큰 호텔', '자쿠지', '리노베이팅', '가족여행', '넓은 방', '스파', '관광 할인', '바', '무인 체크인', '아늑함', '에어컨', '레이트 체크아웃', '편안함', '인피니티 풀', '신혼여행', '치안 좋은', '통유리 창문', '통풍 잘되는', '버스 정류장 앞', '맛집', '키즈클럽', '가까운 해변', '쇼핑몰', '도심', '휴양지 느낌', '셔틀버스 운영', '얼리 체크인', '온천', '관광지', '24시간 프런트', '작은 호텔', '주차장', '숙박', '빠른 대응', '네임밸류', '위생적인', '도보 가능', '조식', '매일 청소', '세심함', '어메니티', '가성비', '공항에서 가까운', '바다 뷰', '가족여행']\n",
    "resort = ['영어 가능한 직원', '골프장', '주차장', '친절한 직원', '로맨틱', '큰 호텔', '자쿠지', '리노베이팅', '가족여행', '넓은 방', '스파', '관광 할인', '바', '무인 체크인', '아늑함', '에어컨', '레이트 체크아웃', '편안함', '인피니티 풀', '신혼여행', '치안 좋은', '통유리 창문', '통풍 잘되는', '버스 정류장 앞', '맛집', '키즈클럽', '가까운 해변', '쇼핑몰', '도심', '휴양지 느낌', '셔틀버스 운영', '얼리 체크인', '온천', '관광지', '24시간 프런트', '작은 호텔', '주차장', '숙박', '빠른 대응', '네임밸류', '위생적인', '도보 가능', '조식', '매일 청소', '썬베드', '수상 레저', '세심함', '어메니티', '가성비', '공항에서 가까운', '바다 뷰', '가족여행']\n",
    "ryokan = ['영어 가능한 직원', '주차장', '친절한 직원', '로맨틱','일본식', '히노끼 탕', '전통적인', '리노베이팅', '가족여행', '넓은 방', '스파', '관광 할인', '무인 체크인', '아늑함', '에어컨', '레이트 체크아웃', '편안함', '가이세키 요리', '목욕탕', '온천', '신혼여행', '치안 좋은', '다다미 방', '통풍 잘되는', '버스 정류장 앞', '맛집', '쇼핑몰', '도심', '셔틀버스 운영', '얼리 체크인', '온천', '관광지', '24시간 프런트', '주차장', '숙박', '위생적인', '도보 가능', '조식', '매일 청소', '세심함', '호텔식', '가성비', '공항에서 가까운', '바다 뷰', '가족여행']"
   ]
  },
  {
   "cell_type": "markdown",
   "metadata": {},
   "source": [
    "숙소 바꿀 때에는:\n",
    "1) 위 accommodation_type를 원하는 숙소 type으로 바꿔준다 (호텔, 리조트, 료칸, 등)\n",
    "2) 아래 keywords를 accommodation_type에 상응하는 keywords list이름으로 바꿔준다\n",
    "    (키워드가 숙소별로 다르게 설정되어 있기 때문)\n",
    "3) 필요 시, 원하는 키워드 추가 / 제거로 더욱 focused한 output 생성 가능"
   ]
  },
  {
   "cell_type": "code",
   "execution_count": null,
   "metadata": {},
   "outputs": [],
   "source": [
    "from tqdm.auto import tqdm\n",
    "keywords = ryokan #바꾸기\n",
    "#키워드는 호텔/리조트/료칸에 따라 바꿔서 사용\n",
    "\n",
    "@backoff.on_exception(backoff.expo, (openai.error.RateLimitError,\n",
    "                                     openai.error.APIError,\n",
    "                                     openai.error.ServiceUnavailableError,),\n",
    "                      max_tries=5, max_value = 60)\n",
    "def augment_temp(number):\n",
    "    augmented = []\n",
    "    \n",
    "    for n in tqdm(range(number)):\n",
    "        random.shuffle(keywords)\n",
    "        #그냥 생성하면 앞에 있는 키워드가 비정상적으로 많이 사용됨으로 한번 generate 할 때마다 keyword shuffle\n",
    "        keywords_joined = ','.join(keywords)\n",
    "\n",
    "        output = get_answer_from_gpt4_test(keywords_joined + \"\\n 위 리스트에 있는 단어들을 같이 2개 이상 랜덤으로 사용하여 사용자가 \" + accommodation_type + \"데이터베이스에 \" + accommodation_type +\"을 검색하는 중 할 만한 질문을 하나 생성해 주세요. 무조건 물음표로 질문이 끝나게 만들어 주세요.\")\n",
    "        #prompt에 information 더 추가하면 자세히 나옴 (예: 료칸을 검색 할 때 --> 일본여행을 계획하는 관광객이..?)\n",
    "        output_data = [output]\n",
    "        augmented.append(output_data)\n",
    "    return augmented"
   ]
  },
  {
   "cell_type": "markdown",
   "metadata": {},
   "source": [
    "get_answer_from_gpt4_test() 안에 prompt에서 \"... 질문 n개 생성해줘\" 안쓰는 이유:\n",
    "\n",
    "위 prompt처럼 하나씩 생성하면 output quality가 더 좋음"
   ]
  },
  {
   "cell_type": "code",
   "execution_count": null,
   "metadata": {},
   "outputs": [],
   "source": [
    "#csv로 저장code (append)\n",
    "def save_to_csv(data, filename):\n",
    "    with open(filename, 'a', newline = '', encoding='utf8') as csvfile:\n",
    "        writer = csv.writer(csvfile)\n",
    "        for row in data:\n",
    "            writer.writerow(row)"
   ]
  },
  {
   "cell_type": "markdown",
   "metadata": {},
   "source": [
    "for i in range(반복 수):\n",
    "\n",
    "save_to_csv(augment_temp(질문 생성하고 싶은 수), 'save할 csv파일이름')\n",
    "\n",
    "range(반복 수) X augment_temp(숫자) = 총 생성되는 수\n",
    "\n",
    "나누는 이유는 RateLimitError 때문"
   ]
  },
  {
   "cell_type": "code",
   "execution_count": null,
   "metadata": {},
   "outputs": [],
   "source": [
    "for i in range(4):\n",
    "    try:\n",
    "        save_to_csv(augment_temp(500), 'gpt_test_ryokan123.csv')\n",
    "        print(\"waiting for next\")\n",
    "        time.sleep(60) #RateLimitError 대비, 필요 시 시간 늘리기\n",
    "        print(\"resuming\")\n",
    "    except:\n",
    "        continue"
   ]
  }
 ],
 "metadata": {
  "kernelspec": {
   "display_name": "Python 3",
   "language": "python",
   "name": "python3"
  },
  "language_info": {
   "codemirror_mode": {
    "name": "ipython",
    "version": 3
   },
   "file_extension": ".py",
   "mimetype": "text/x-python",
   "name": "python",
   "nbconvert_exporter": "python",
   "pygments_lexer": "ipython3",
   "version": "3.11.4"
  },
  "orig_nbformat": 4
 },
 "nbformat": 4,
 "nbformat_minor": 2
}
